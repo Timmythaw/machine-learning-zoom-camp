{
 "cells": [
  {
   "cell_type": "markdown",
   "id": "f1584d8a",
   "metadata": {},
   "source": [
    "## Predicting Car Fuel Energy"
   ]
  },
  {
   "cell_type": "markdown",
   "id": "8ef6e2ca",
   "metadata": {},
   "source": [
    "### Data Preparation"
   ]
  },
  {
   "cell_type": "code",
   "execution_count": 2,
   "id": "a54313af",
   "metadata": {},
   "outputs": [],
   "source": [
    "import numpy as np\n",
    "import pandas as pd"
   ]
  },
  {
   "cell_type": "code",
   "execution_count": 3,
   "id": "1d542b22",
   "metadata": {},
   "outputs": [],
   "source": [
    "data = \"https://raw.githubusercontent.com/alexeygrigorev/datasets/master/car_fuel_efficiency.csv\""
   ]
  },
  {
   "cell_type": "code",
   "execution_count": 4,
   "id": "b4d93430",
   "metadata": {},
   "outputs": [
    {
     "name": "stdout",
     "output_type": "stream",
     "text": [
      "--2025-10-10 17:24:03--  https://raw.githubusercontent.com/alexeygrigorev/datasets/master/car_fuel_efficiency.csv\n",
      "Resolving raw.githubusercontent.com (raw.githubusercontent.com)... 185.199.109.133, 185.199.110.133, 185.199.111.133, ...\n",
      "Connecting to raw.githubusercontent.com (raw.githubusercontent.com)|185.199.109.133|:443... connected.\n",
      "HTTP request sent, awaiting response... 200 OK\n",
      "Length: 874188 (854K) [text/plain]\n",
      "Saving to: ‘car_fuel_efficiency.csv’\n",
      "\n",
      "car_fuel_efficiency 100%[===================>] 853.70K  2.02MB/s    in 0.4s    \n",
      "\n",
      "2025-10-10 17:24:04 (2.02 MB/s) - ‘car_fuel_efficiency.csv’ saved [874188/874188]\n",
      "\n"
     ]
    }
   ],
   "source": [
    "!wget $data -O car_fuel_efficiency.csv"
   ]
  },
  {
   "cell_type": "code",
   "execution_count": 5,
   "id": "e5826b93",
   "metadata": {},
   "outputs": [
    {
     "data": {
      "text/plain": [
       "(9704,\n",
       "    engine_displacement  horsepower  vehicle_weight  model_year  \\\n",
       " 0                  170       159.0     3413.433759        2003   \n",
       " 1                  130        97.0     3149.664934        2007   \n",
       " 2                  170        78.0     3079.038997        2018   \n",
       " 3                  220         NaN     2542.392402        2009   \n",
       " 4                  210       140.0     3460.870990        2009   \n",
       " \n",
       "    fuel_efficiency_mpg  \n",
       " 0            13.231729  \n",
       " 1            13.688217  \n",
       " 2            14.246341  \n",
       " 3            16.912736  \n",
       " 4            12.488369  )"
      ]
     },
     "execution_count": 5,
     "metadata": {},
     "output_type": "execute_result"
    }
   ],
   "source": [
    "cols = [\n",
    "    \"engine_displacement\",\n",
    "    \"horsepower\",\n",
    "    \"vehicle_weight\",\n",
    "    \"model_year\",\n",
    "    \"fuel_efficiency_mpg\",\n",
    "]\n",
    "\n",
    "df_full = pd.read_csv(\"car_fuel_efficiency.csv\")\n",
    "df = df_full[cols].copy()\n",
    "len(df), df.head()"
   ]
  },
  {
   "cell_type": "markdown",
   "id": "17090e49",
   "metadata": {},
   "source": [
    "### Exploratory Data Analysis"
   ]
  },
  {
   "cell_type": "code",
   "execution_count": 6,
   "id": "1f483e7a",
   "metadata": {},
   "outputs": [],
   "source": [
    "import matplotlib.pyplot as plt"
   ]
  },
  {
   "cell_type": "code",
   "execution_count": 7,
   "id": "6238b9b9",
   "metadata": {},
   "outputs": [
    {
     "data": {
      "image/png": "[encoded data removed]",
      "text/plain": [
       "<Figure size 640x480 with 1 Axes>"
      ]
     },
     "metadata": {},
     "output_type": "display_data"
    }
   ],
   "source": [
    "target = \"fuel_efficiency_mpg\"\n",
    "ax = df[target].hist(bins=30)\n",
    "ax.set_title(\"Fuel efficiency (MPG) distribution\")\n",
    "ax.set_xlabel(\"MPG\")\n",
    "ax.set_ylabel(\"Count\")\n",
    "plt.show()"
   ]
  },
  {
   "cell_type": "code",
   "execution_count": 8,
   "id": "b56f9a8b",
   "metadata": {},
   "outputs": [
    {
     "name": "stdout",
     "output_type": "stream",
     "text": [
      "Describe MPG:\n"
     ]
    },
    {
     "data": {
      "text/plain": [
       "count    9704.000000\n",
       "mean       14.985243\n",
       "std         2.556468\n",
       "min         6.200971\n",
       "25%        13.267459\n",
       "50%        15.006037\n",
       "75%        16.707965\n",
       "max        25.967222\n",
       "Name: fuel_efficiency_mpg, dtype: float64"
      ]
     },
     "metadata": {},
     "output_type": "display_data"
    }
   ],
   "source": [
    "print(\"Describe MPG:\")\n",
    "display(df[target].describe())"
   ]
  },
  {
   "cell_type": "code",
   "execution_count": 9,
   "id": "29140ba0",
   "metadata": {},
   "outputs": [
    {
     "name": "stdout",
     "output_type": "stream",
     "text": [
      "\n",
      "Missing values per column:\n"
     ]
    },
    {
     "data": {
      "text/plain": [
       "engine_displacement      0\n",
       "horsepower             708\n",
       "vehicle_weight           0\n",
       "model_year               0\n",
       "fuel_efficiency_mpg      0\n",
       "dtype: int64"
      ]
     },
     "metadata": {},
     "output_type": "display_data"
    }
   ],
   "source": [
    "print(\"\\nMissing values per column:\")\n",
    "na_counts = df.isna().sum()\n",
    "display(na_counts)"
   ]
  },
  {
   "cell_type": "code",
   "execution_count": 10,
   "id": "73b75131",
   "metadata": {},
   "outputs": [
    {
     "data": {
      "text/plain": [
       "['horsepower']"
      ]
     },
     "execution_count": 10,
     "metadata": {},
     "output_type": "execute_result"
    }
   ],
   "source": [
    "#names of columns with missing values\n",
    "col_with_na = na_counts[na_counts > 0].index.tolist()\n",
    "col_with_na"
   ]
  },
  {
   "cell_type": "markdown",
   "id": "68d09804",
   "metadata": {},
   "source": [
    "### Median Horsepower"
   ]
  },
  {
   "cell_type": "code",
   "execution_count": 11,
   "id": "cec88246",
   "metadata": {},
   "outputs": [
    {
     "data": {
      "text/plain": [
       "np.float64(149.0)"
      ]
     },
     "execution_count": 11,
     "metadata": {},
     "output_type": "execute_result"
    }
   ],
   "source": [
    "hp_median = df[\"horsepower\"].median()\n",
    "hp_median"
   ]
  },
  {
   "cell_type": "markdown",
   "id": "66231071",
   "metadata": {},
   "source": [
    "### Validation"
   ]
  },
  {
   "cell_type": "code",
   "execution_count": 12,
   "id": "616c15d6",
   "metadata": {},
   "outputs": [],
   "source": [
    "def split_train_val_test(df, seed=42):\n",
    "    n = len(df)\n",
    "    idx = np.arange(n)\n",
    "    np.random.seed(seed)\n",
    "    np.random.shuffle(idx)\n",
    "    n_train = int(0.6 * n)\n",
    "    n_val   = int(0.2 * n)\n",
    "    train_idx = idx[:n_train]\n",
    "    val_idx   = idx[n_train:n_train+n_val]\n",
    "    test_idx  = idx[n_train+n_val:]\n",
    "    return df.iloc[train_idx].copy(), df.iloc[val_idx].copy(), df.iloc[test_idx].copy()"
   ]
  },
  {
   "cell_type": "code",
   "execution_count": 13,
   "id": "11473acf",
   "metadata": {},
   "outputs": [],
   "source": [
    "df_train, df_val, df_test = split_train_val_test(df, seed=42)"
   ]
  },
  {
   "cell_type": "code",
   "execution_count": 14,
   "id": "7d751fe7",
   "metadata": {},
   "outputs": [
    {
     "data": {
      "text/plain": [
       "(5822, 1940, 1942)"
      ]
     },
     "execution_count": 14,
     "metadata": {},
     "output_type": "execute_result"
    }
   ],
   "source": [
    "len(df_train), len(df_val), len(df_test)"
   ]
  },
  {
   "cell_type": "markdown",
   "id": "0b89aacc",
   "metadata": {},
   "source": [
    "### Features and Target"
   ]
  },
  {
   "cell_type": "code",
   "execution_count": 15,
   "id": "bd6a21a1",
   "metadata": {},
   "outputs": [],
   "source": [
    "features = [\"engine_displacement\", \"horsepower\", \"vehicle_weight\", \"model_year\"]\n",
    "target = \"fuel_efficiency_mpg\""
   ]
  },
  {
   "cell_type": "code",
   "execution_count": 16,
   "id": "d90baa6b",
   "metadata": {},
   "outputs": [],
   "source": [
    "def get_mean_stats(df, cols):\n",
    "    return {c: df[c].mean() for c in cols}"
   ]
  },
  {
   "cell_type": "code",
   "execution_count": 17,
   "id": "d36f83f1",
   "metadata": {},
   "outputs": [],
   "source": [
    "def prepare_X(df, fill_strategy=\"zero\", stats=None):\n",
    "    X = df[features].copy()\n",
    "    if fill_strategy == \"zero\":\n",
    "        X = X.fillna(0)\n",
    "    elif fill_strategy == \"mean\":\n",
    "        assert stats is not None, \"Mean stats required for fill_strategy='mean'\"\n",
    "        for c in features:\n",
    "            X[c] = X[c].fillna(stats[c])\n",
    "    else:\n",
    "        raise ValueError(\"fill_strategy must be 'zero' or 'mean'\")\n",
    "    X = X.values\n",
    "    # add bias column\n",
    "    X = np.column_stack([np.ones(X.shape[0]), X])\n",
    "    return X"
   ]
  },
  {
   "cell_type": "code",
   "execution_count": 18,
   "id": "046ce524",
   "metadata": {},
   "outputs": [],
   "source": [
    "def rmse(y, y_pred):\n",
    "    return np.sqrt(np.mean((y - y_pred) ** 2))"
   ]
  },
  {
   "cell_type": "code",
   "execution_count": 19,
   "id": "7174126d",
   "metadata": {},
   "outputs": [],
   "source": [
    "def train_linear_regression(X, y, r=0.0):\n",
    "    XTX = X.T.dot(X)\n",
    "    # L2 regularization, don't regularize bias at [0,0]\n",
    "    if r > 0:\n",
    "        reg = r * np.eye(XTX.shape[0])\n",
    "        reg[0, 0] = 0.0\n",
    "        XTX = XTX + reg\n",
    "    w = np.linalg.inv(XTX).dot(X.T).dot(y)\n",
    "    return w"
   ]
  },
  {
   "cell_type": "code",
   "execution_count": 20,
   "id": "8652f85e",
   "metadata": {},
   "outputs": [],
   "source": [
    "def predict(X, w):\n",
    "    return X.dot(w)"
   ]
  },
  {
   "cell_type": "markdown",
   "id": "c10f2110",
   "metadata": {},
   "source": [
    "### Fill = 0 vs Fill = mean"
   ]
  },
  {
   "cell_type": "code",
   "execution_count": 22,
   "id": "3e07b92e",
   "metadata": {},
   "outputs": [],
   "source": [
    "y_train = df_train[target].values\n",
    "y_val   = df_val[target].values"
   ]
  },
  {
   "cell_type": "code",
   "execution_count": 23,
   "id": "305db4f9",
   "metadata": {},
   "outputs": [],
   "source": [
    "# fill=0\n",
    "X_train_zero = prepare_X(df_train, fill_strategy=\"zero\")\n",
    "X_val_zero   = prepare_X(df_val,   fill_strategy=\"zero\")\n",
    "w_zero = train_linear_regression(X_train_zero, y_train, r=0.0)\n",
    "rmse_zero = rmse(y_val, predict(X_val_zero, w_zero))"
   ]
  },
  {
   "cell_type": "code",
   "execution_count": 24,
   "id": "e5ab752f",
   "metadata": {},
   "outputs": [],
   "source": [
    "# fill=mean (compute from TRAIN only)\n",
    "mean_stats = get_mean_stats(df_train, features)\n",
    "X_train_mean = prepare_X(df_train, fill_strategy=\"mean\", stats=mean_stats)\n",
    "X_val_mean   = prepare_X(df_val,   fill_strategy=\"mean\", stats=mean_stats)\n",
    "w_mean = train_linear_regression(X_train_mean, y_train, r=0.0)\n",
    "rmse_mean = rmse(y_val, predict(X_val_mean, w_mean))"
   ]
  },
  {
   "cell_type": "code",
   "execution_count": 26,
   "id": "380bff8d",
   "metadata": {},
   "outputs": [
    {
     "name": "stdout",
     "output_type": "stream",
     "text": [
      "RMSE (fill=0)   : 0.52\n",
      "RMSE (fill=mean): 0.46\n"
     ]
    }
   ],
   "source": [
    "print(\"RMSE (fill=0)   :\", round(rmse_zero, 2))\n",
    "print(\"RMSE (fill=mean):\", round(rmse_mean, 2))"
   ]
  },
  {
   "cell_type": "code",
   "execution_count": 27,
   "id": "7738ee80",
   "metadata": {},
   "outputs": [
    {
     "data": {
      "text/plain": [
       "'With mean'"
      ]
     },
     "execution_count": 27,
     "metadata": {},
     "output_type": "execute_result"
    }
   ],
   "source": [
    "best_q3 = \"With 0\" if round(rmse_zero,2) < round(rmse_mean,2) else (\"With mean\" if round(rmse_mean,2) < round(rmse_zero,2) else \"Both are equally good\")\n",
    "best_q3"
   ]
  },
  {
   "cell_type": "markdown",
   "id": "356822be",
   "metadata": {},
   "source": [
    "### Regularized Linear Regression"
   ]
  },
  {
   "cell_type": "code",
   "execution_count": 28,
   "id": "084d0982",
   "metadata": {},
   "outputs": [],
   "source": [
    "r_list = [0, 0.01, 0.1, 1, 5, 10, 100]"
   ]
  },
  {
   "cell_type": "code",
   "execution_count": 29,
   "id": "90a383df",
   "metadata": {},
   "outputs": [
    {
     "data": {
      "text/plain": [
       "[(0, np.float64(0.52)),\n",
       " (0.01, np.float64(0.52)),\n",
       " (0.1, np.float64(0.52)),\n",
       " (1, np.float64(0.52)),\n",
       " (5, np.float64(0.52)),\n",
       " (10, np.float64(0.52)),\n",
       " (100, np.float64(0.52))]"
      ]
     },
     "execution_count": 29,
     "metadata": {},
     "output_type": "execute_result"
    }
   ],
   "source": [
    "scores = []\n",
    "for r in r_list:\n",
    "    X_train = prepare_X(df_train, fill_strategy=\"zero\")\n",
    "    X_val   = prepare_X(df_val,   fill_strategy=\"zero\")\n",
    "    w = train_linear_regression(X_train, y_train, r=r)\n",
    "    score = rmse(y_val, predict(X_val, w))\n",
    "    scores.append((r, round(score, 2)))\n",
    "\n",
    "scores"
   ]
  },
  {
   "cell_type": "code",
   "execution_count": 30,
   "id": "1a7a545e",
   "metadata": {},
   "outputs": [
    {
     "data": {
      "text/plain": [
       "(0, np.float64(0.52))"
      ]
     },
     "execution_count": 30,
     "metadata": {},
     "output_type": "execute_result"
    }
   ],
   "source": [
    "best_r = None\n",
    "best_rmse = None\n",
    "for r, s in scores:\n",
    "    if (best_rmse is None) or (s < best_rmse) or (s == best_rmse and r < best_r):\n",
    "        best_rmse = s\n",
    "        best_r = r\n",
    "\n",
    "best_r, best_rmse"
   ]
  },
  {
   "cell_type": "markdown",
   "id": "58e0b4e7",
   "metadata": {},
   "source": [
    "### Std of 10 validation RMSEs"
   ]
  },
  {
   "cell_type": "code",
   "execution_count": 31,
   "id": "179695bf",
   "metadata": {},
   "outputs": [],
   "source": [
    "def val_rmse_for_seed(seed):\n",
    "    dtr, dval, _ = split_train_val_test(df, seed=seed)\n",
    "    ytr = dtr[target].values\n",
    "    yv  = dval[target].values\n",
    "    Xtr = prepare_X(dtr, fill_strategy=\"zero\")\n",
    "    Xv  = prepare_X(dval, fill_strategy=\"zero\")\n",
    "    w   = train_linear_regression(Xtr, ytr, r=0.0)\n",
    "    return rmse(yv, predict(Xv, w))"
   ]
  },
  {
   "cell_type": "code",
   "execution_count": 32,
   "id": "5ad3e7a6",
   "metadata": {},
   "outputs": [
    {
     "data": {
      "text/plain": [
       "([np.float64(0.5210993169575029),\n",
       "  np.float64(0.5218422383637982),\n",
       "  np.float64(0.5230384519921711),\n",
       "  np.float64(0.5161215334679158),\n",
       "  np.float64(0.5111869530228665),\n",
       "  np.float64(0.5286833855487454),\n",
       "  np.float64(0.5322418918536721),\n",
       "  np.float64(0.5095258233917545),\n",
       "  np.float64(0.5149083792385315),\n",
       "  np.float64(0.5131330922635594)],\n",
       " np.float64(0.007))"
      ]
     },
     "execution_count": 32,
     "metadata": {},
     "output_type": "execute_result"
    }
   ],
   "source": [
    "seed_scores = [val_rmse_for_seed(s) for s in range(10)]\n",
    "std_q5 = np.std(seed_scores)\n",
    "seed_scores, round(std_q5, 3)"
   ]
  },
  {
   "cell_type": "markdown",
   "id": "2f58858a",
   "metadata": {},
   "source": [
    "### Final Model and Test RMSE"
   ]
  },
  {
   "cell_type": "code",
   "execution_count": 33,
   "id": "eb965104",
   "metadata": {},
   "outputs": [],
   "source": [
    "dtr, dval, dte = split_train_val_test(df, seed=9)"
   ]
  },
  {
   "cell_type": "code",
   "execution_count": 34,
   "id": "63910287",
   "metadata": {},
   "outputs": [],
   "source": [
    "df_trval = pd.concat([dtr, dval]).reset_index(drop=True)\n",
    "y_trval = df_trval[target].values\n",
    "y_te    = dte[target].values"
   ]
  },
  {
   "cell_type": "code",
   "execution_count": 36,
   "id": "1bf68aac",
   "metadata": {},
   "outputs": [],
   "source": [
    "X_trval = prepare_X(df_trval, fill_strategy=\"zero\")\n",
    "X_te    = prepare_X(dte,     fill_strategy=\"zero\")"
   ]
  },
  {
   "cell_type": "code",
   "execution_count": 37,
   "id": "bb693f83",
   "metadata": {},
   "outputs": [
    {
     "data": {
      "text/plain": [
       "np.float64(0.515)"
      ]
     },
     "execution_count": 37,
     "metadata": {},
     "output_type": "execute_result"
    }
   ],
   "source": [
    "w_final = train_linear_regression(X_trval, y_trval, r=0.001)\n",
    "rmse_test = rmse(y_te, predict(X_te, w_final))\n",
    "round(rmse_test, 3)"
   ]
  },
  {
   "cell_type": "markdown",
   "id": "62e3484d",
   "metadata": {},
   "source": [
    "### Mapping to Mutiple Choice Questions"
   ]
  },
  {
   "cell_type": "code",
   "execution_count": 38,
   "id": "f134df7d",
   "metadata": {},
   "outputs": [],
   "source": [
    "# Q1\n",
    "q1_col = col_with_na[0] if len(col_with_na) else None"
   ]
  },
  {
   "cell_type": "code",
   "execution_count": 39,
   "id": "da16fe90",
   "metadata": {},
   "outputs": [],
   "source": [
    "# Q2\n",
    "def closest(opt_list, value):\n",
    "    # opt_list are numbers; value is numeric\n",
    "    arr = np.array(opt_list, dtype=float)\n",
    "    return arr[np.argmin(np.abs(arr - value))]"
   ]
  },
  {
   "cell_type": "code",
   "execution_count": 40,
   "id": "748f5c19",
   "metadata": {},
   "outputs": [],
   "source": [
    "q2_opt = closest([49, 99, 149, 199], hp_median)"
   ]
  },
  {
   "cell_type": "code",
   "execution_count": 41,
   "id": "4d6d36a4",
   "metadata": {},
   "outputs": [],
   "source": [
    "# Q3\n",
    "q3_opt = best_q3"
   ]
  },
  {
   "cell_type": "code",
   "execution_count": 42,
   "id": "1d2049fc",
   "metadata": {},
   "outputs": [],
   "source": [
    "# Q4\n",
    "q4_options = [0, 0.01, 1, 10, 100]\n",
    "q4_opt = best_r if best_r in q4_options else min(q4_options, key=lambda r: abs(r - best_r))"
   ]
  },
  {
   "cell_type": "code",
   "execution_count": 43,
   "id": "b4d73fba",
   "metadata": {},
   "outputs": [],
   "source": [
    "# Q5\n",
    "q5_opt = float(closest([0.001, 0.006, 0.060, 0.600], round(std_q5, 3)))"
   ]
  },
  {
   "cell_type": "code",
   "execution_count": 44,
   "id": "13fe431c",
   "metadata": {},
   "outputs": [],
   "source": [
    "# Q6\n",
    "q6_opt = float(closest([0.15, 0.515, 5.15, 51.5], round(rmse_test, 3)))"
   ]
  },
  {
   "cell_type": "code",
   "execution_count": 45,
   "id": "4f680a42",
   "metadata": {},
   "outputs": [
    {
     "name": "stdout",
     "output_type": "stream",
     "text": [
      "Q1: horsepower\n",
      "Q2: 149\n",
      "Q3: With mean\n",
      "Q4: 0\n",
      "Q5: 0.006\n",
      "Q6: 0.515\n"
     ]
    }
   ],
   "source": [
    "print(\"Q1:\", q1_col)\n",
    "print(\"Q2:\", int(q2_opt))\n",
    "print(\"Q3:\", q3_opt)\n",
    "print(\"Q4:\", q4_opt)\n",
    "print(\"Q5:\", q5_opt)\n",
    "print(\"Q6:\", q6_opt)\n"
   ]
  },
  {
   "cell_type": "code",
   "execution_count": null,
   "id": "0e11e8f7",
   "metadata": {},
   "outputs": [],
   "source": []
  }
 ],
 "metadata": {
  "kernelspec": {
   "display_name": "machine-learning-zoom-camp (3.12.3)",
   "language": "python",
   "name": "python3"
  },
  "language_info": {
   "codemirror_mode": {
    "name": "ipython",
    "version": 3
   },
   "file_extension": ".py",
   "mimetype": "text/x-python",
   "name": "python",
   "nbconvert_exporter": "python",
   "pygments_lexer": "ipython3",
   "version": "3.12.3"
  }
 },
 "nbformat": 4,
 "nbformat_minor": 5
}
